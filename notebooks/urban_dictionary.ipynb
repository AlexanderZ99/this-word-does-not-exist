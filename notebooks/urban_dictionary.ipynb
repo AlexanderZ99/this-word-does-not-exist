{
 "cells": [
  {
   "cell_type": "code",
   "execution_count": 137,
   "metadata": {},
   "outputs": [
    {
     "name": "stdout",
     "output_type": "stream",
     "text": [
      "The autoreload extension is already loaded. To reload it, use:\n",
      "  %reload_ext autoreload\n"
     ]
    }
   ],
   "source": [
    "%load_ext autoreload\n",
    "%autoreload 2\n",
    "import sys\n",
    "import pandas as pd\n",
    "import pickle\n",
    "import itertools \n",
    "sys.path.append(\"../\")\n",
    "from title_maker_pro import datasets\n",
    "from collections import OrderedDict\n",
    "import copy"
   ]
  },
  {
   "cell_type": "code",
   "execution_count": 5,
   "metadata": {},
   "outputs": [],
   "source": [
    "dataset_path = \"/mnt/evo/projects/title-maker-pro/data/urban_dictionary_words.pickle\"\n",
    "with open(dataset_path, 'rb') as f:\n",
    "    dataset = pickle.load(f)"
   ]
  },
  {
   "cell_type": "code",
   "execution_count": 80,
   "metadata": {},
   "outputs": [],
   "source": [
    "blacklist = datasets.Blacklist.load(\"/mnt/evo/projects/title-maker-pro/models/blacklist.pickle\")"
   ]
  },
  {
   "cell_type": "code",
   "execution_count": 21,
   "metadata": {},
   "outputs": [],
   "source": [
    "pd_dataset = pd.DataFrame(\n",
    "    (\n",
    "        (d.word, d.meaning, d.examples[0], d.upvotes, d.downvotes, d.creation_epoch) \n",
    "        for d in itertools.chain.from_iterable(e.definitions for e in dataset.values())\n",
    "    ),\n",
    "    columns=[\"word\", \"meaning\", \"example\", \"upvotes\", \"downvotes\", \"creation_epoch\"]\n",
    ")"
   ]
  },
  {
   "cell_type": "code",
   "execution_count": 99,
   "metadata": {},
   "outputs": [],
   "source": [
    "def cut(original, f, name):\n",
    "    n = original[f]\n",
    "    print(f\"{name} cut by {100 * len(n) / (len(original)):.2f}% ({len(original)} -> {len(n)})\")\n",
    "    return n"
   ]
  },
  {
   "cell_type": "code",
   "execution_count": 103,
   "metadata": {},
   "outputs": [
    {
     "name": "stdout",
     "output_type": "stream",
     "text": [
      "blacklist cut by 49.63% (2961824 -> 1469932)\n"
     ]
    },
    {
     "name": "stderr",
     "output_type": "stream",
     "text": [
      "/home/tdimson/anaconda3/envs/company_makeup/lib/python3.7/site-packages/ipykernel_launcher.py:2: UserWarning: Boolean Series key will be reindexed to match DataFrame index.\n",
      "  \n"
     ]
    },
    {
     "name": "stdout",
     "output_type": "stream",
     "text": [
      "length cut by 65.20% (1469932 -> 958444)\n",
      "upvotes cut by 47.83% (958444 -> 458387)\n"
     ]
    }
   ],
   "source": [
    "t = pd_dataset.copy()\n",
    "t = cut(t, ~(pd_dataset[\"word\"].apply(blacklist.contains)), name=\"blacklist\")\n",
    "t = cut(t, ((pd_dataset[\"example\"].str.len() + pd_dataset[\"meaning\"].str.len() + pd_dataset[\"word\"].str.len()) < 250), name=\"length\")\n",
    "t = cut(t, (pd_dataset[\"upvotes\"] >= 4), name=\"upvotes\")"
   ]
  },
  {
   "cell_type": "code",
   "execution_count": 148,
   "metadata": {},
   "outputs": [],
   "source": [
    "cleaned_dataset = OrderedDict()\n",
    "i = 0\n",
    "num_defns = 0\n",
    "for k, ud_word in dataset.items():\n",
    "    good_defns = []\n",
    "    for d in ud_word.definitions:\n",
    "        if i in valid_indexes:\n",
    "            good_defns.append(d)\n",
    "            num_defns += 1\n",
    "        i += 1\n",
    "    \n",
    "    if good_defns:\n",
    "        new = copy.deepcopy(ud_word)\n",
    "        new.definitions = good_defns\n",
    "        cleaned_dataset[k] = new"
   ]
  },
  {
   "cell_type": "code",
   "execution_count": 150,
   "metadata": {},
   "outputs": [],
   "source": [
    "cleaned_dataset_path = \"/mnt/evo/projects/title-maker-pro/data/urban_dictionary_250_cleaned.pickle\"\n",
    "with open(cleaned_dataset_path, \"wb\") as f:\n",
    "    pickle.dump(cleaned_dataset, f, pickle.HIGHEST_PROTOCOL)"
   ]
  }
 ],
 "metadata": {
  "kernelspec": {
   "display_name": "company_makeup",
   "language": "python",
   "name": "company_makeup"
  },
  "language_info": {
   "codemirror_mode": {
    "name": "ipython",
    "version": 3
   },
   "file_extension": ".py",
   "mimetype": "text/x-python",
   "name": "python",
   "nbconvert_exporter": "python",
   "pygments_lexer": "ipython3",
   "version": "3.7.6"
  }
 },
 "nbformat": 4,
 "nbformat_minor": 4
}
