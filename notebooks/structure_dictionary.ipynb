{
 "cells": [
  {
   "cell_type": "code",
   "execution_count": null,
   "metadata": {},
   "outputs": [],
   "source": [
    "%load_ext autoreload\n",
    "%autoreload 2\n",
    "import dictionary_definition\n",
    "import random\n",
    "import pickle"
   ]
  },
  {
   "cell_type": "code",
   "execution_count": null,
   "metadata": {},
   "outputs": [],
   "source": [
    "dictionary_path = \"data/com_apple_MobileAsset_DictionaryServices_dictionaryOSX/69b7ab1cf0f75ad16bf6662b0a77fbfd36b7941f.asset/AssetData/New Oxford American Dictionary.dictionary/Contents/Resources/Body.data\"\n",
    "parsed = []\n",
    "num_tried = 0\n",
    "error_titles = []\n",
    "\n",
    "with open(dictionary_path, \"rb\") as f:\n",
    "    for entry in dictionary_definition.DictionaryDefinition.gen_from_apple_dictionary(f):\n",
    "        num_tried += 1\n",
    "        try:\n",
    "            parsed.append(dictionary_definition.AppleDictParser.parse(entry.parsed_entry))\n",
    "        except dictionary_definition.InvalidParseAssumptionError: \n",
    "            error_titles.append(title)\n",
    "    \n",
    "print(f\"Error rate: {len(error_titles) / num_tried}\")"
   ]
  },
  {
   "cell_type": "code",
   "execution_count": null,
   "metadata": {},
   "outputs": [],
   "source": [
    "random.shuffle(parsed)\n",
    "with open(f\"data/en_dictionary_parsed_randomized.pickle\", \"wb\") as f:\n",
    "    pickle.dump(parsed, f, protocol=pickle.HIGHEST_PROTOCOL)"
   ]
  },
  {
   "cell_type": "code",
   "execution_count": null,
   "metadata": {},
   "outputs": [],
   "source": [
    "error_titles = []\n",
    "num_choices = 200000\n",
    "for title, parsed_entry in random.choices(parsies_items, k=num_choices):\n",
    "    try:\n",
    "        dictionary_definition.AppleDictParser.parse(parsed_entry)\n",
    "    except Exception:\n",
    "        error_titles.append(title)\n",
    "        \n",
    "print(f\"Error rate: {len(error_titles) / num_choices}\")"
   ]
  },
  {
   "cell_type": "code",
   "execution_count": null,
   "metadata": {},
   "outputs": [],
   "source": [
    "error_titles"
   ]
  },
  {
   "cell_type": "code",
   "execution_count": null,
   "metadata": {},
   "outputs": [],
   "source": [
    "# view = next(e for e in all_defs if e.title == \"view\")\n",
    "# machinate = next(e for e in all_defs if e.title == \"machinate\")\n",
    "    # parsed_entry = try_word\n",
    "\n",
    "\n",
    "view = parsies[\"view\"]\n",
    "eject = parsies[\"eject\"] \n",
    "al_desko = parsies[\"al desko\"] \n",
    "tomato_fruitworm = parsies[\"tomato fruitworm\"] \n",
    "technocrat = parsies[\"technocrat\"] \n",
    "poor_law = parsies[\"Poor Law\"] \n",
    "oh2 = parsies[\"oh\"]\n",
    "gawky = parsies[\"gawky\"]\n",
    "leo_iii = parsies[\"Leo III\"]\n",
    "pollo = parsies[\"pollo\"]\n",
    "mortimer = parsies[\"Mortimer, Roger de\"]\n",
    "sauria = parsies[\"Sauria\"]\n",
    "hardtail = parsies[\"hardtail\"]\n",
    "saccharine = parsies[\"saccharine\"]\n",
    "warren = parsies[\"Warren\"]\n",
    "rattle = parsies[\"rattle\"]\n",
    "slough_of_despond = parsies[\"Slough of Despond\"]\n",
    "try_word = parsies[\"try\"]\n",
    "eryngo = parsies[\"eryngo\"]\n",
    "fescue = parsies[\"fescue\"]\n",
    "brazen = parsies[\"brazen\"]\n",
    "weekend = parsies[\"weekend\"]\n",
    "thrash = parsies[\"thrash\"]\n",
    "thee = parsies[\"thee\"]\n",
    "talk = parsies[\"talk\"]\n",
    "beef = parsies[\"beef\"]\n",
    "pygmy = parsies[\"pygmy\"]\n",
    "kosher = parsies[\"kosher\"]\n",
    "graphy = parsies[\"-graphy\"]\n",
    "term = parsies[\"term\"]\n",
    "come = parsies[\"come\"]\n",
    "    \n",
    "for i in range(10):\n",
    "    title, parsed_entry = random.choice(parsies_items)\n",
    "    # d = machinate\n",
    "    # d = view\n",
    "    # d = eject\n",
    "    # d = al_desko\n",
    "    # d = tomato_fruitworm\n",
    "    # d = technocrat\n",
    "    # parsed_entry = view\n",
    "    # parsed_entry = poor_law\n",
    "    # parsed_entry = oh2\n",
    "    # parsed_entry = gawky\n",
    "    # parsed_entry = leo_iii\n",
    "    # parsed_entry = pollo\n",
    "    # parsed_entry = mortimer\n",
    "    # parsed_entry = sauria\n",
    "    # parsed_entry = hardtail\n",
    "    # parsed_entry = saccharine\n",
    "    # parsed_entry = warren\n",
    "    # parsed_entry = rattle\n",
    "    # parsed_entry = slough_of_despond\n",
    "    # parsed_entry = try_word\n",
    "    # parsed_entry = beef\n",
    "    # parsed_entry = term\n",
    "    parsed_entry = come\n",
    "    print(parsed_entry.get_text())    \n",
    "    print()\n",
    "    \n",
    "    # print(parsed_entry.prettify())\n",
    "    print(dictionary_definition.AppleDictParser.parse(parsed_entry))\n",
    "    \n",
    "    print()\n",
    "    print(parsed_entry.prettify())\n",
    "    \n",
    "    print()\n",
    "    print()"
   ]
  }
 ],
 "metadata": {
  "kernelspec": {
   "display_name": "Python 3",
   "language": "python",
   "name": "python3"
  },
  "language_info": {
   "codemirror_mode": {
    "name": "ipython",
    "version": 3
   },
   "file_extension": ".py",
   "mimetype": "text/x-python",
   "name": "python",
   "nbconvert_exporter": "python",
   "pygments_lexer": "ipython3",
   "version": "3.7.4"
  }
 },
 "nbformat": 4,
 "nbformat_minor": 4
}
