{
 "cells": [
  {
   "cell_type": "code",
   "execution_count": null,
   "metadata": {},
   "outputs": [],
   "source": [
    "%load_ext autoreload\n",
    "%autoreload 2\n",
    "import sys\n",
    "sys.path.append(\"../title_maker_pro\")"
   ]
  },
  {
   "cell_type": "code",
   "execution_count": null,
   "metadata": {},
   "outputs": [],
   "source": [
    "import re\n",
    "import stanza\n",
    "import pickle\n",
    "import datasets\n",
    "from collections import Counter\n",
    "import dictionary_definition\n",
    "stanza.download('en')  \n",
    "from transformers import AutoModelWithLMHead, AutoTokenizer"
   ]
  },
  {
   "cell_type": "code",
   "execution_count": null,
   "metadata": {},
   "outputs": [],
   "source": [
    "blacklist = datasets.Blacklist(set())\n",
    "blacklist.merge(datasets.Blacklist.from_text_stream(open(\"/mnt/evo/projects/title-maker-pro/data/wikitext-103-raw/wiki.train.raw\"), use_gpu=True))\n",
    "blacklist.merge(datasets.Blacklist.from_text_stream(open(\"/mnt/evo/projects/title-maker-pro/data/wikitext-103-raw/wiki.test.raw\"),  use_gpu=True))\n",
    "blacklist.merge(datasets.Blacklist.from_text_lines(open(\"/mnt/evo/projects/title-maker-pro/data/words.txt\")))\n",
    "blacklist.merge(datasets.Blacklist.from_parsed_dictionary(\"/mnt/evo/projects/title-maker-pro/data/en_dictionary_parsed_randomized.pickle\"))"
   ]
  },
  {
   "cell_type": "code",
   "execution_count": null,
   "metadata": {},
   "outputs": [],
   "source": [
    "len(blacklist.blacklist_set)"
   ]
  },
  {
   "cell_type": "code",
   "execution_count": null,
   "metadata": {},
   "outputs": [],
   "source": [
    "blacklist.merge(datasets.Blacklist.from_text_lines(open(\"../data/words.txt\")))"
   ]
  },
  {
   "cell_type": "code",
   "execution_count": null,
   "metadata": {},
   "outputs": [],
   "source": [
    "blacklist.dump(\"../build/blacklist.pickle\")"
   ]
  },
  {
   "cell_type": "code",
   "execution_count": null,
   "metadata": {},
   "outputs": [],
   "source": [
    "parsed_dict = pickle.load(open(\"../data/en_dictionary_parsed_randomized.pickle\", \"rb\"))"
   ]
  },
  {
   "cell_type": "code",
   "execution_count": null,
   "metadata": {},
   "outputs": [],
   "source": [
    "has_period = 0\n",
    "no_period = 0\n",
    "c = Counter()\n",
    "for item in parsed_dict[:1000]:\n",
    "    for sense in item.senses:\n",
    "        for definition in sense.definitions:\n",
    "            if isinstance(definition, dictionary_definition.ReferenceDefinition):\n",
    "                continue\n",
    "                \n",
    "            c[definition.definition.strip()[-1]] += 1\n",
    "            if definition.definition.strip().endswith(\".\"):\n",
    "                has_period += 1\n",
    "            else:\n",
    "                no_period += 1\n",
    "                \n",
    "print(f\"Has period: {100 * has_period / (has_period + no_period):.2f}\")"
   ]
  },
  {
   "cell_type": "code",
   "execution_count": null,
   "metadata": {},
   "outputs": [],
   "source": [
    "tokenizer = AutoTokenizer.from_pretrained(\"gpt2\")\n",
    "tokenizer.add_special_tokens(datasets.SpecialTokens.special_tokens_dict())\n",
    "ip = datasets.InverseParsedDictionaryDefinitionDataset(tokenizer, None, None)"
   ]
  },
  {
   "cell_type": "code",
   "execution_count": null,
   "metadata": {},
   "outputs": [],
   "source": [
    "for item in parsed_dict[:100]:\n",
    "    for i, sense in enumerate(item.senses):\n",
    "        for definition in sense.definitions:\n",
    "            if isinstance(definition, dictionary_definition.ReferenceDefinition):\n",
    "                continue\n",
    "            \n",
    "            if definition.definition.strip()[-1] == \".\":\n",
    "                e = ip._make_examples(tokenizer, item)[i]\n",
    "                if e:\n",
    "                    print(tokenizer.decode(e))"
   ]
  },
  {
   "cell_type": "code",
   "execution_count": null,
   "metadata": {},
   "outputs": [],
   "source": [
    "_)"
   ]
  }
 ],
 "metadata": {
  "kernelspec": {
   "display_name": "company_makeup",
   "language": "python",
   "name": "company_makeup"
  },
  "language_info": {
   "codemirror_mode": {
    "name": "ipython",
    "version": 3
   },
   "file_extension": ".py",
   "mimetype": "text/x-python",
   "name": "python",
   "nbconvert_exporter": "python",
   "pygments_lexer": "ipython3",
   "version": "3.7.6"
  }
 },
 "nbformat": 4,
 "nbformat_minor": 4
}
