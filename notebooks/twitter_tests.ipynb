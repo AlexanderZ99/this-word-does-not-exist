{
 "cells": [
  {
   "cell_type": "code",
   "execution_count": 2,
   "metadata": {},
   "outputs": [],
   "source": [
    "%load_ext autoreload\n",
    "%autoreload 2"
   ]
  },
  {
   "cell_type": "code",
   "execution_count": 4,
   "metadata": {},
   "outputs": [],
   "source": [
    "import tweepy\n",
    "import sys\n",
    "import os"
   ]
  },
  {
   "cell_type": "code",
   "execution_count": 26,
   "metadata": {},
   "outputs": [],
   "source": [
    "api_key = os.environ.get(\"TWITTER_API_KEY\")\n",
    "api_secret = os.environ.get(\"TWITTER_API_SECRET\")\n",
    "access_token = os.environ.get(\"TWITTER_ACCESS_TOKEN\")\n",
    "access_secret = os.environ.get(\"TWITTER_ACCESS_SECRET\")\n",
    "app_name = os.environ.get(\"TWITTER_APP_NAME\")\n",
    "app_name = \"Word Maker Pro 2000\""
   ]
  },
  {
   "cell_type": "code",
   "execution_count": 8,
   "metadata": {},
   "outputs": [],
   "source": [
    "auth = tweepy.OAuthHandler(api_key, api_secret)\n",
    "auth.set_access_token(access_token, access_secret)\n",
    "api = tweepy.API(\n",
    "    auth,\n",
    "    wait_on_rate_limit=True,\n",
    "    wait_on_rate_limit_notify=True,\n",
    "    retry_count=5,\n",
    "    retry_delay=30,\n",
    "    retry_errors=set([500, 503]),\n",
    ")"
   ]
  },
  {
   "cell_type": "code",
   "execution_count": 28,
   "metadata": {},
   "outputs": [],
   "source": []
  },
  {
   "cell_type": "code",
   "execution_count": 29,
   "metadata": {},
   "outputs": [
    {
     "data": {
      "text/plain": [
       "100"
      ]
     },
     "execution_count": 29,
     "metadata": {},
     "output_type": "execute_result"
    }
   ],
   "source": [
    "len(items)"
   ]
  },
  {
   "cell_type": "code",
   "execution_count": 25,
   "metadata": {},
   "outputs": [
    {
     "data": {
      "text/plain": [
       "'https://api.twitter.com/oauth/authorize?oauth_token=cz_aPwAAAAAAwOziAAABcdkii1U'"
      ]
     },
     "execution_count": 25,
     "metadata": {},
     "output_type": "execute_result"
    }
   ],
   "source": [
    "api.auth.get_authorization_url()"
   ]
  },
  {
   "cell_type": "code",
   "execution_count": 18,
   "metadata": {},
   "outputs": [
    {
     "data": {
      "text/plain": [
       "User(_api=<tweepy.api.API object at 0x7fbb57beb590>, _json={'id': 1254268700640686080, 'id_str': '1254268700640686080', 'name': 'Robo Dictionary', 'screen_name': 'robo_define', 'location': 'San Francisco, California', 'profile_location': None, 'description': 'Robot generating definitions for words you make up. Try \"@robo_define cromulent\" or \"@robo_define me\". Works unless I hit a rate limit.  Made by @turtlesoupy!', 'url': 'https://t.co/nF3n3YT70B', 'entities': {'url': {'urls': [{'url': 'https://t.co/nF3n3YT70B', 'expanded_url': 'https://www.thisworddoesnotexist.com', 'display_url': 'thisworddoesnotexist.com', 'indices': [0, 23]}]}, 'description': {'urls': []}}, 'protected': False, 'followers_count': 4, 'friends_count': 2, 'listed_count': 0, 'created_at': 'Sun Apr 26 04:39:05 +0000 2020', 'favourites_count': 4, 'utc_offset': None, 'time_zone': None, 'geo_enabled': False, 'verified': False, 'statuses_count': 111, 'lang': None, 'status': {'created_at': 'Sun May 03 05:00:55 +0000 2020', 'id': 1256810948800757762, 'id_str': '1256810948800757762', 'text': '👐 Fake word of the day: mishonk /noun/ \\na South Slavic game resembling chess in drawing, with eight pawns and the o… https://t.co/FUYW5X0p0G', 'truncated': True, 'entities': {'hashtags': [], 'symbols': [], 'user_mentions': [], 'urls': [{'url': 'https://t.co/FUYW5X0p0G', 'expanded_url': 'https://twitter.com/i/web/status/1256810948800757762', 'display_url': 'twitter.com/i/web/status/1…', 'indices': [117, 140]}]}, 'source': '<a href=\"http://www.dimson.zone\" rel=\"nofollow\">Word Maker Pro 2000</a>', 'in_reply_to_status_id': None, 'in_reply_to_status_id_str': None, 'in_reply_to_user_id': None, 'in_reply_to_user_id_str': None, 'in_reply_to_screen_name': None, 'geo': None, 'coordinates': None, 'place': None, 'contributors': None, 'is_quote_status': False, 'retweet_count': 0, 'favorite_count': 0, 'favorited': False, 'retweeted': False, 'lang': 'en'}, 'contributors_enabled': False, 'is_translator': False, 'is_translation_enabled': False, 'profile_background_color': 'F5F8FA', 'profile_background_image_url': None, 'profile_background_image_url_https': None, 'profile_background_tile': False, 'profile_image_url': 'http://pbs.twimg.com/profile_images/1254268820472000514/0xBFlk-E_normal.jpg', 'profile_image_url_https': 'https://pbs.twimg.com/profile_images/1254268820472000514/0xBFlk-E_normal.jpg', 'profile_link_color': '1DA1F2', 'profile_sidebar_border_color': 'C0DEED', 'profile_sidebar_fill_color': 'DDEEF6', 'profile_text_color': '333333', 'profile_use_background_image': True, 'has_extended_profile': True, 'default_profile': True, 'default_profile_image': False, 'following': False, 'follow_request_sent': False, 'notifications': False, 'translator_type': 'none', 'suspended': False, 'needs_phone_verification': False}, id=1254268700640686080, id_str='1254268700640686080', name='Robo Dictionary', screen_name='robo_define', location='San Francisco, California', profile_location=None, description='Robot generating definitions for words you make up. Try \"@robo_define cromulent\" or \"@robo_define me\". Works unless I hit a rate limit.  Made by @turtlesoupy!', url='https://t.co/nF3n3YT70B', entities={'url': {'urls': [{'url': 'https://t.co/nF3n3YT70B', 'expanded_url': 'https://www.thisworddoesnotexist.com', 'display_url': 'thisworddoesnotexist.com', 'indices': [0, 23]}]}, 'description': {'urls': []}}, protected=False, followers_count=4, friends_count=2, listed_count=0, created_at=datetime.datetime(2020, 4, 26, 4, 39, 5), favourites_count=4, utc_offset=None, time_zone=None, geo_enabled=False, verified=False, statuses_count=111, lang=None, status=Status(_api=<tweepy.api.API object at 0x7fbb57beb590>, _json={'created_at': 'Sun May 03 05:00:55 +0000 2020', 'id': 1256810948800757762, 'id_str': '1256810948800757762', 'text': '👐 Fake word of the day: mishonk /noun/ \\na South Slavic game resembling chess in drawing, with eight pawns and the o… https://t.co/FUYW5X0p0G', 'truncated': True, 'entities': {'hashtags': [], 'symbols': [], 'user_mentions': [], 'urls': [{'url': 'https://t.co/FUYW5X0p0G', 'expanded_url': 'https://twitter.com/i/web/status/1256810948800757762', 'display_url': 'twitter.com/i/web/status/1…', 'indices': [117, 140]}]}, 'source': '<a href=\"http://www.dimson.zone\" rel=\"nofollow\">Word Maker Pro 2000</a>', 'in_reply_to_status_id': None, 'in_reply_to_status_id_str': None, 'in_reply_to_user_id': None, 'in_reply_to_user_id_str': None, 'in_reply_to_screen_name': None, 'geo': None, 'coordinates': None, 'place': None, 'contributors': None, 'is_quote_status': False, 'retweet_count': 0, 'favorite_count': 0, 'favorited': False, 'retweeted': False, 'lang': 'en'}, created_at=datetime.datetime(2020, 5, 3, 5, 0, 55), id=1256810948800757762, id_str='1256810948800757762', text='👐 Fake word of the day: mishonk /noun/ \\na South Slavic game resembling chess in drawing, with eight pawns and the o… https://t.co/FUYW5X0p0G', truncated=True, entities={'hashtags': [], 'symbols': [], 'user_mentions': [], 'urls': [{'url': 'https://t.co/FUYW5X0p0G', 'expanded_url': 'https://twitter.com/i/web/status/1256810948800757762', 'display_url': 'twitter.com/i/web/status/1…', 'indices': [117, 140]}]}, source='Word Maker Pro 2000', source_url='http://www.dimson.zone', in_reply_to_status_id=None, in_reply_to_status_id_str=None, in_reply_to_user_id=None, in_reply_to_user_id_str=None, in_reply_to_screen_name=None, geo=None, coordinates=None, place=None, contributors=None, is_quote_status=False, retweet_count=0, favorite_count=0, favorited=False, retweeted=False, lang='en'), contributors_enabled=False, is_translator=False, is_translation_enabled=False, profile_background_color='F5F8FA', profile_background_image_url=None, profile_background_image_url_https=None, profile_background_tile=False, profile_image_url='http://pbs.twimg.com/profile_images/1254268820472000514/0xBFlk-E_normal.jpg', profile_image_url_https='https://pbs.twimg.com/profile_images/1254268820472000514/0xBFlk-E_normal.jpg', profile_link_color='1DA1F2', profile_sidebar_border_color='C0DEED', profile_sidebar_fill_color='DDEEF6', profile_text_color='333333', profile_use_background_image=True, has_extended_profile=True, default_profile=True, default_profile_image=False, following=False, follow_request_sent=False, notifications=False, translator_type='none', suspended=False, needs_phone_verification=False)"
      ]
     },
     "execution_count": 18,
     "metadata": {},
     "output_type": "execute_result"
    }
   ],
   "source": [
    "api.me()"
   ]
  },
  {
   "cell_type": "code",
   "execution_count": 27,
   "metadata": {},
   "outputs": [
    {
     "data": {
      "text/plain": [
       "1256403323759943681"
      ]
     },
     "execution_count": 27,
     "metadata": {},
     "output_type": "execute_result"
    }
   ],
   "source": []
  },
  {
   "cell_type": "code",
   "execution_count": 13,
   "metadata": {},
   "outputs": [
    {
     "name": "stdout",
     "output_type": "stream",
     "text": [
      "None\n",
      "None\n",
      "None\n",
      "1256403323759943681\n",
      "None\n",
      "1256136763149479936\n",
      "1256136456948420614\n",
      "1256135577461682176\n",
      "1256135259902468096\n",
      "1256133077660622848\n",
      "1256132836387549184\n",
      "1256132575455612929\n",
      "None\n",
      "1256007034337550336\n",
      "1255994524146364416\n",
      "1255993437892952065\n",
      "1255939723949817856\n",
      "None\n",
      "None\n",
      "None\n"
     ]
    }
   ],
   "source": [
    "for item in items:\n",
    "    print(item.in_reply_to_status_id)"
   ]
  }
 ],
 "metadata": {
  "kernelspec": {
   "display_name": "company_makeup",
   "language": "python",
   "name": "company_makeup"
  },
  "language_info": {
   "codemirror_mode": {
    "name": "ipython",
    "version": 3
   },
   "file_extension": ".py",
   "mimetype": "text/x-python",
   "name": "python",
   "nbconvert_exporter": "python",
   "pygments_lexer": "ipython3",
   "version": "3.7.6"
  }
 },
 "nbformat": 4,
 "nbformat_minor": 4
}
