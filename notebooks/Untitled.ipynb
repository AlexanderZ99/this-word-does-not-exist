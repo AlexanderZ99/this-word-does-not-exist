{
 "cells": [
  {
   "cell_type": "code",
   "execution_count": null,
   "metadata": {},
   "outputs": [],
   "source": [
    "%load_ext autoreload\n",
    "%autoreload 2\n",
    "import sys\n",
    "sys.path.append(\"../title_maker_pro\")\n",
    "sys.path.append(\"../website\")"
   ]
  },
  {
   "cell_type": "code",
   "execution_count": 2,
   "metadata": {},
   "outputs": [
    {
     "name": "stderr",
     "output_type": "stream",
     "text": [
      "Downloading https://raw.githubusercontent.com/stanfordnlp/stanza-resources/master/resources_1.0.0.json: 116kB [00:00, 10.6MB/s]                    \n",
      "2020-05-05 00:50:35 INFO: Downloading default packages for language: en (English)...\n",
      "2020-05-05 00:50:36 INFO: File exists: /home/tdimson/stanza_resources/en/default.zip.\n",
      "2020-05-05 00:50:39 INFO: Finished downloading models and saved to /home/tdimson/stanza_resources.\n"
     ]
    }
   ],
   "source": [
    "import re\n",
    "import stanza\n",
    "from collections import Counter\n",
    "import itertools\n",
    "import datasets\n",
    "import pickle\n",
    "import torch\n",
    "from transformers import AutoModelWithLMHead, AutoTokenizer\n",
    "stanza.download('en')  "
   ]
  },
  {
   "cell_type": "code",
   "execution_count": 21,
   "metadata": {},
   "outputs": [],
   "source": [
    "def print_words(words, f):\n",
    "    for word in words:\n",
    "        word_str = [word.word]\n",
    "        if word.pos:\n",
    "            word_str.append(f\"/{word.pos}/\")\n",
    "        if word.topic:\n",
    "            word_str.append(f\"[{word.topic}]\")\n",
    "        print(\" \".join(word_str), file=f)\n",
    "        print(f\"\\t{word.definition}{' |n| ' if word.example is None else ''}\", file=f)\n",
    "        if word.example:\n",
    "            print(f\"\\t\\\"{word.example}\\\"\", file=f)\n",
    "\n",
    "        print(\"\", file=f)"
   ]
  },
  {
   "cell_type": "code",
   "execution_count": 4,
   "metadata": {},
   "outputs": [
    {
     "name": "stderr",
     "output_type": "stream",
     "text": [
      "2020-05-05 00:50:39 WARNING: Can not find mwt: default from official model list. Ignoring it.\n",
      "2020-05-05 00:50:39 INFO: Loading these models for language: en (English):\n",
      "=======================\n",
      "| Processor | Package |\n",
      "-----------------------\n",
      "| tokenize  | ewt     |\n",
      "| pos       | ewt     |\n",
      "=======================\n",
      "\n",
      "2020-05-05 00:50:39 INFO: Use device: gpu\n",
      "2020-05-05 00:50:39 INFO: Loading: tokenize\n",
      "2020-05-05 00:50:40 INFO: Loading: pos\n",
      "2020-05-05 00:50:41 INFO: Done loading processors!\n"
     ]
    }
   ],
   "source": [
    "nlp = stanza.Pipeline(lang='en', processors='tokenize,mwt,pos')\n",
    "tokenizer = AutoTokenizer.from_pretrained(\"gpt2\")\n",
    "tokenizer.add_special_tokens(datasets.SpecialTokens.special_tokens_dict())\n",
    "blacklist = datasets.Blacklist.load(\"../build/blacklist.pickle\")\n",
    "model = AutoModelWithLMHead.from_pretrained(\"/mnt/evo/projects/title-maker-pro/models/en_dictionary_parsed_lr_00001_creativity/checkpoint-120000/\").to(\"cuda:0\")"
   ]
  },
  {
   "cell_type": "code",
   "execution_count": null,
   "metadata": {},
   "outputs": [],
   "source": [
    "%timeit datasets.ParsedDictionaryDefinitionDataset.evaluate_creativity(tokenizer, model, blacklist, 100, 50, max_length=512)"
   ]
  },
  {
   "cell_type": "code",
   "execution_count": 16,
   "metadata": {},
   "outputs": [],
   "source": [
    "def no_weird(w):\n",
    "    return (\n",
    "            w.word[-1] != \"-\"\n",
    "            and \"<|\" not in w.definition\n",
    "            and \"<|\" not in w.example\n",
    "            and (not w.pos or \"<|\" not in w.pos)\n",
    "            and len(w.word.split()) <= 3\n",
    "            and len(w.definition.split()) >= 3\n",
    "            and len(w.example.split()) >= 3\n",
    "        )\n",
    "         \n",
    "def go(**kwargs):\n",
    "    return datasets.ParsedDictionaryDefinitionDataset.generate_words(\n",
    "        tokenizer, model,\n",
    "        num=1,\n",
    "        max_iterations=2, \n",
    "        blacklist=blacklist, \n",
    "        example_match_pos_pipeline=nlp,\n",
    "        generation_args=dict(\n",
    "            top_k=200,\n",
    "            num_return_sequences=50,\n",
    "            max_length=375,\n",
    "            do_sample=True,\n",
    "        ),\n",
    "        filter_proper_nouns=True,\n",
    "        user_filter=no_weird,\n",
    "        **kwargs\n",
    "    )\n",
    "\n",
    "# words, stats = go()\n",
    "# print(stats)\n",
    "# print()\n",
    "# print_words(words, sys.stdout)"
   ]
  },
  {
   "cell_type": "code",
   "execution_count": 23,
   "metadata": {},
   "outputs": [
    {
     "name": "stderr",
     "output_type": "stream",
     "text": [
      "\n",
      "  0%|          | 0/1 [00:00<?, ?it/s]\u001b[A\n",
      "100%|██████████| 1/1 [00:00<00:00,  1.10it/s]\u001b[A"
     ]
    },
    {
     "name": "stdout",
     "output_type": "stream",
     "text": [
      "iterations=2 | items_considered 1.00@91, failed_match 0.98@89, blacklist_filtered 0.00@0, seen_filtered 0.00@0, proper_noun_filtered 0.01@1, example_missing 0.00@0, example_missing_title 0.00@0, example_pos_match_failed 0.00@0, user_filtered 0.00@0, returned 0.01@1\n",
      "waterbath /noun/\n",
      "\ta bathtub without a sink\n",
      "\t\"waterbath in Venice\"\n",
      "\n"
     ]
    },
    {
     "name": "stderr",
     "output_type": "stream",
     "text": [
      "\n"
     ]
    }
   ],
   "source": [
    "words, stats = go(use_custom_generate=True)\n",
    "print(stats)\n",
    "print_words(words, sys.stdout)"
   ]
  },
  {
   "cell_type": "code",
   "execution_count": null,
   "metadata": {},
   "outputs": [],
   "source": [
    "blacklist.contains(\"foolage\")"
   ]
  },
  {
   "cell_type": "code",
   "execution_count": null,
   "metadata": {},
   "outputs": [],
   "source": [
    "len(blacklist.blacklist_set)"
   ]
  },
  {
   "cell_type": "code",
   "execution_count": 7,
   "metadata": {},
   "outputs": [
    {
     "name": "stdout",
     "output_type": "stream",
     "text": [
      "carolier /noun/ [British]\n",
      "\ta kind of fast-flowing lace dress suitable for dancing\n",
      "\t\"a stylish, elegant carolier\"\n",
      "\n",
      "arbitrariff /noun/\n",
      "\ta lawyer involved in the arbitrariff's work\n",
      "\t\"the arbitrariff decided that the law should be binding\"\n",
      "\n",
      "penarium /noun/\n",
      "\ta central compartment of an insect, reptile, or other living organism under the wings at the base of the thorax\n",
      "\t\"the wings were enlarged, forcing the embryo to fly into penarium\"\n",
      "\n",
      "undergradualization /noun/\n",
      "\tthe slow development of a technique, resulting from an abnormal development\n",
      "\t\"excessive undergradualization of the techniques\"\n",
      "\n",
      "unreimbursed /adjective/ [archaic]\n",
      "\t(of a book or index) having a story or descriptive narrative that is not easily recounted\n",
      "\t\"no readers loved stories without unreimbursed evidence\"\n",
      "\n",
      "inchester /noun/\n",
      "\t(in an architecture school) a chapel with rectangular, molding-like moldings made of varnish, typically used for religious or decorative decoration\n",
      "\t\"a wall set was built in the Inchester of Joochwood\"\n",
      "\n",
      "bezohedron /noun/\n",
      "\ta barcode belonging to a large family of electronic electronic instruments, used in the digital forensics dating from 151966 to 1984. It corresponds to an evergreen standard which includes the standard pentagon form, and has a quantum magnetic field\n",
      "\t\"there are 37,000 devices that transmit bezohedrons as distinct from standard ones\"\n",
      "\n",
      "wetbag /noun/\n",
      "\ta device with a wick, typically a tube, attached to the nose that will give an acceptable sound while riding\n",
      "\t\"the cyclist wore an eyeglasses with a wetbag\"\n",
      "\n",
      "neecesium /noun/\n",
      "\ta division of plants containing similar to the plonk and twigs, comprising the eucalyptus (genus Geometrium), ciliate (genus Dorgium) and lesser (genus Zoaceae)\n",
      "\t\"a large variety of neecesium\"\n",
      "\n",
      "sapois sanny /noun/\n",
      "\ta mild cask used for distillation. It is made from a low-carbon, oxygen-poor solution of hydrogen peroxide and oxygen groups. It has been used as a solvent for disinfectants and is used to make cosmetic products\n",
      "\t\"a sapois sanny is now a favorite in the Czech Republic\"\n",
      "\n",
      "brasshead /noun/ [North American informal]\n",
      "\tan overzealous person\n",
      "\t\"he's a bit of a brasshead in the army\"\n",
      "\n",
      "nonmisdemeanor /noun/\n",
      "\tlegally arrested for a crime in a public place; a minor\n",
      "\t\"she wore her license as a nonmisdemeanor\"\n",
      "\n",
      "painsquirrel /noun/\n",
      "\ta short, bare-beaked swan with a short beak and a stinging beak, typically having a long coat with sharp heels and long stripes\n",
      "\t\"the painsquirrels with which he began forgers his prey\"\n",
      "\n",
      "understocked /adjective/\n",
      "\t(of metal) very rich enough to be easily melted or polished\n",
      "\t\"make sure that your steel is understocked\"\n",
      "\n",
      "maggressive /adjective/\n",
      "\t(of a person) forceful and unrestrained in expressing one's opinions, feelings, opinions, feelings of affection, or other feelings\n",
      "\t\"his maggressive tone\"\n",
      "\n",
      "scalouche /noun/\n",
      "\ta North American oak, closely related to the oak, with a smooth stem, smooth timber, and strongly colored wood like a crown, native to England and many other regions\n",
      "\t\"a scalouche pear\"\n",
      "\n",
      "depromate /verb/\n",
      "\tremove a layer of white or another radioactive material from\n",
      "\t\"the plates in the crust will depromate\"\n",
      "\n",
      "insulinema /plural noun/\n",
      "\tanemia occurring in the kidneys, especially in children, causing calcification of the lining of the peritoneum and causing anemia\n",
      "\t\"insects attacked the kidneys with insulinema\"\n",
      "\n",
      "duckfish /noun/\n",
      "\ta large fish related to the albicans and one of the major common fish of the moose family. Most kinds feed on small invertebrate filaments that float above the water, including tout fish and tuna\n",
      "\t\"a duckfish-toothed mother eagle and herring\"\n",
      "\n",
      "empeniser /noun/\n",
      "\ta person who instills moral beliefs\n",
      "\t\"I'm the empeniser of social justice\"\n",
      "\n",
      "battlesh /noun/\n",
      "\ta medium-sized plant, especially a black one, that is part of the green tree family (Bathysporidae)\n",
      "\t\"the old North American battlesh\"\n",
      "\n",
      "jellibilis /noun/\n",
      "\ta fruitlike fruit with trumpet-shaped shaped or shaped shell flowers\n",
      "\t\"wild kids with jellibilis picked at random\"\n",
      "\n",
      "airband /noun/ [Physiology]\n",
      "\ta region of air between two tissues in the body, such as those of the lungs and the ventricles\n",
      "\t\"a high level of airband density\"\n",
      "\n",
      "pupet /noun/\n",
      "\ta puffy substance covering one's palm, especially from the skin, used especially to treat malaria\n",
      "\t\"a pale pupet of leprosy pounces on her toes\"\n",
      "\n",
      "lollybug /noun/\n",
      "\ta nocturnal mollusk that has long spiny blue or black teeth\n",
      "\t\"a lollybug gave me a thumbs-up\"\n",
      "\n",
      "septinometer /noun/\n",
      "\teach of a series of electrodes in a diode which convey sound vibrations through a pipe or other part of the body\n",
      "\t\"he was charged up and scanned by a septinometer\"\n",
      "\n",
      "plauger /noun/\n",
      "\ta person who does and sells meat, fish, or other food, especially from farms to local meat processor manufacturers\n",
      "\t\"they have made some progress against grafting and the plauger of grain\"\n",
      "\n",
      "lunchbill /noun/\n",
      "\ta white bushy longhand with two legs and a slender body, common in the Caribbean\n",
      "\t\"a lunchbill of olive trees\"\n",
      "\n",
      "leopardie /noun/\n",
      "\tshowing a marked lack of skill; ineptitude\n",
      "\t\"the blizzard had forced them into leopardie position on their front paws\"\n",
      "\n",
      "nachotenuse /noun/\n",
      "\ta young rat of a breed used as food\n",
      "\t\"a rare North American rat of the nachotenuse\"\n",
      "\n",
      "dyeboard /noun/\n",
      "\ta small board used for washing and drying clothes to make an impression on others using a duster\n",
      "\t\"a blue-dyeboard bath tub\"\n",
      "\n",
      "mordana /noun/\n",
      "\ta highly prized gift\n",
      "\t\"a martini, a mordana of sugar\"\n",
      "\n",
      "mangarian /noun/\n",
      "\ta native or inhabitant of Mangapagam\n",
      "\t\"pandemic violence could lead to cultural and ethnic cultural Mangarians\"\n",
      "\n",
      "stackeg /noun/\n",
      "\ta large scale dancing race by animals, used to train the rider to move around a rough land\n",
      "\t\"to win their stackeg they took the gold for 12 days in Japan\"\n",
      "\n",
      "trirem /noun/\n",
      "\ta group of three times as much; a trirem plus the four years each, especially in ancient Rome\n",
      "\t\"the Trirem police\"\n",
      "\n",
      "oblerike /adjective/\n",
      "\tconstituting an oblique path or point\n",
      "\t\"the oblerike course of the Red River\"\n",
      "\n",
      "carpetcloth /noun/\n",
      "\tcloth that has thick, furlike fibers, typically forming a satin pattern on the fibers\n",
      "\t\"he had a flat bottom and a thick carpetcloth jacket\"\n",
      "\n",
      "monophouse /noun/\n",
      "\t(in ancient Rome) two apartments or districts and one house and treasury built collectively\n",
      "\t\"patrons from neighboring towns were introduced into the Monophouse\"\n",
      "\n",
      "cadillon /noun/\n",
      "\tan elaborately made violin or other musical instrument, especially one made during the reign of Henry VIII in the 15th and 16th centuries\n",
      "\t\"cadillons of fine brass\"\n",
      "\n",
      "rescendant /adjective/ [chiefly British]\n",
      "\toccurring or occurring at a point in time or space beyond one's conscious imagination\n",
      "\t\"the greatest rescendant interest of our time is nuclear physics\"\n",
      "\n",
      "comodoro /noun/\n",
      "\ta tropical tropical American bird with a long bushy tabby bill with exposed bursae. It has a male call and numerous social activities including dancing. Comodoro songbirds are common\n",
      "\t\"companies are looking for music with uplifting and comodoro songs\"\n",
      "\n",
      "subsecond /noun/\n",
      "\tan atom or subatomic particle that has a low supersensitivity\n",
      "\t\"one subsecond of emission\"\n",
      "\n",
      "remin /verb [with object]/\n",
      "\tpunish, threaten, or otherwise prevent someone from gaining (something, typically freedom)\n",
      "\t\"he had been required to do all he could to reminister to his family\"\n",
      "\n",
      "snackmaster /noun/\n",
      "\ta business owner who does everything from seasoning kettles and fruitcake to selling snacks to kids\n",
      "\t\"there is a lot the snackmaster can do—get creative and make something great happen\"\n",
      "\n",
      "barnacool /adjective/\n",
      "\t(of a chair) having the handles curved inward\n",
      "\t\"a barnacool floor\"\n",
      "\n",
      "paraphene /noun/\n",
      "\tan organic compound which is responsible for parafilade\n",
      "\t\"paraphene is a surfactant\"\n",
      "\n",
      "dextrol /noun/\n",
      "\ta colorless, fluorescent, crystalline ester of trichloroethylene\n",
      "\t\"the smell of dextrol in the air\"\n",
      "\n",
      "phallogram /noun/\n",
      "\ta visual representation of the shape of the head of a person or animal, represented by a rounded dot through the top edges of a grid of icons\n",
      "\t\"a large digital screen now features a screen of phallogram design\"\n",
      "\n",
      "terrazan /noun/\n",
      "\ta light, compact, cylindrical insect of the heath family, with a distinctive male bony body and a black crescent-shaped upper head\n",
      "\t\"a terrazan's face\"\n",
      "\n",
      "dizebo /noun/\n",
      "\ta flat substance in the earth's crust, especially oil\n",
      "\t\"dizebos are used for cleaning up oil-rich oceans\"\n",
      "\n"
     ]
    }
   ],
   "source": [
    "print_words(words[:50], sys.stdout)"
   ]
  },
  {
   "cell_type": "code",
   "execution_count": null,
   "metadata": {},
   "outputs": [],
   "source": [
    "import math\n",
    "from transformers import activations\n",
    "import transformers\n",
    "\n",
    "def gelu_new(x):\n",
    "    return 0.5 * x * (1 + torch.tanh(math.sqrt(2 / math.pi) * (x + 0.044715 * torch.pow(x, 3.0))))\n",
    "\n",
    "activations.ACT2FN['gelu_new'] = gelu_new\n",
    "\n",
    "model = AutoModelWithLMHead.from_pretrained(\"../build/forward-dictionary-model-v1\").to(\"cpu\")\n",
    "quantized_model = torch.quantization.quantize_dynamic(\n",
    "    model, {torch.nn.Linear, torch.nn.Embedding, transformers.modeling_utils.Conv1D}, dtype=torch.qint8\n",
    ")"
   ]
  },
  {
   "cell_type": "code",
   "execution_count": null,
   "metadata": {},
   "outputs": [],
   "source": [
    "a = go2()"
   ]
  },
  {
   "cell_type": "code",
   "execution_count": null,
   "metadata": {},
   "outputs": [],
   "source": [
    "print(tokenizer.decode(a[0]))"
   ]
  },
  {
   "cell_type": "code",
   "execution_count": null,
   "metadata": {},
   "outputs": [],
   "source": [
    "%timeit go2()"
   ]
  },
  {
   "cell_type": "code",
   "execution_count": 10,
   "metadata": {},
   "outputs": [],
   "source": [
    "from words import WordIndex, Word\n",
    "def clean_example(w, example):\n",
    "    return re.sub(re.escape(w), w, example, flags=re.IGNORECASE)"
   ]
  },
  {
   "cell_type": "code",
   "execution_count": 11,
   "metadata": {},
   "outputs": [],
   "source": [
    "from hyphen import Hyphenator\n",
    "h_en = Hyphenator('en_US')\n",
    "\n",
    "wi = WordIndex(\n",
    "    [\n",
    "        Word(\n",
    "            word=w.word,\n",
    "            definition=w.definition,\n",
    "            pos=w.pos,\n",
    "            topic=w.topic,\n",
    "            example=clean_example(w.word, w.example),\n",
    "            syllables=h_en.syllables(w.word),\n",
    "        ) for w in words\n",
    "        \n",
    "    ]\n",
    ")\n",
    "wi.dump(\"../website/data/words2.json\")"
   ]
  },
  {
   "cell_type": "code",
   "execution_count": null,
   "metadata": {},
   "outputs": [],
   "source": [
    "\n",
    "h_en.syllables('fancccwe')\n",
    "wi2 = WordIndex.load(\"../website/data/words.json\")\n",
    "wi_p = WordIndex(\n",
    "    [\n",
    "        Word(\n",
    "            word=w.word,\n",
    "            definition=w.definition,\n",
    "            pos=w.pos,\n",
    "            topic=w.topic,\n",
    "            example=clean_example(w.word, w.example),\n",
    "            syllables=h_en.syllables(w.word)\n",
    "        )\n",
    "        for w in wi2.words\n",
    "    ]\n",
    ")"
   ]
  },
  {
   "cell_type": "code",
   "execution_count": null,
   "metadata": {},
   "outputs": [],
   "source": [
    "wi_p.dump(\"../website/data/words.json\")"
   ]
  }
 ],
 "metadata": {
  "kernelspec": {
   "display_name": "company_makeup",
   "language": "python",
   "name": "company_makeup"
  },
  "language_info": {
   "codemirror_mode": {
    "name": "ipython",
    "version": 3
   },
   "file_extension": ".py",
   "mimetype": "text/x-python",
   "name": "python",
   "nbconvert_exporter": "python",
   "pygments_lexer": "ipython3",
   "version": "3.7.6"
  }
 },
 "nbformat": 4,
 "nbformat_minor": 4
}
