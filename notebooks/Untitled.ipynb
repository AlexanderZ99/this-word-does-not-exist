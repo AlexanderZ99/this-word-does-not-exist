{
 "cells": [
  {
   "cell_type": "code",
   "execution_count": 11,
   "metadata": {},
   "outputs": [
    {
     "name": "stdout",
     "output_type": "stream",
     "text": [
      "The autoreload extension is already loaded. To reload it, use:\n",
      "  %reload_ext autoreload\n"
     ]
    }
   ],
   "source": [
    "%load_ext autoreload\n",
    "%autoreload 2\n",
    "import sys\n",
    "sys.path.append(\"../\")"
   ]
  },
  {
   "cell_type": "code",
   "execution_count": 12,
   "metadata": {},
   "outputs": [
    {
     "name": "stderr",
     "output_type": "stream",
     "text": [
      "Downloading https://raw.githubusercontent.com/stanfordnlp/stanza-resources/master/resources_1.0.0.json: 116kB [00:00, 10.3MB/s]                    \n",
      "2020-04-30 00:30:07 INFO: Downloading default packages for language: en (English)...\n",
      "2020-04-30 00:30:08 INFO: File exists: /home/tdimson/stanza_resources/en/default.zip.\n",
      "2020-04-30 00:30:11 INFO: Finished downloading models and saved to /home/tdimson/stanza_resources.\n"
     ]
    }
   ],
   "source": [
    "import re\n",
    "import stanza\n",
    "from collections import Counter\n",
    "stanza.download('en')  "
   ]
  },
  {
   "cell_type": "code",
   "execution_count": null,
   "metadata": {},
   "outputs": [],
   "source": []
  },
  {
   "cell_type": "code",
   "execution_count": 13,
   "metadata": {},
   "outputs": [],
   "source": [
    "import itertools\n",
    "import datasets\n",
    "import pickle\n",
    "from transformers import AutoModelWithLMHead, AutoTokenizer"
   ]
  },
  {
   "cell_type": "code",
   "execution_count": 28,
   "metadata": {},
   "outputs": [],
   "source": [
    "\n",
    "def print_words(words, f):\n",
    "    for word in words:\n",
    "        word_str = [word.word]\n",
    "        if word.pos:\n",
    "            word_str.append(f\"/{word.pos}/\")\n",
    "        if word.topic:\n",
    "            word_str.append(f\"[{word.topic}]\")\n",
    "        print(\" \".join(word_str), file=f)\n",
    "        print(f\"\\t{word.definition}{' |n| ' if word.example is None else ''}\", file=f)\n",
    "        if word.example:\n",
    "            print(f\"\\t\\\"{word.example}\\\"{' |e|' if word.from_example_expansion else ''}\", file=f)\n",
    "\n",
    "        print(\"\", file=f)"
   ]
  },
  {
   "cell_type": "code",
   "execution_count": 70,
   "metadata": {},
   "outputs": [
    {
     "name": "stderr",
     "output_type": "stream",
     "text": [
      "2020-04-28 23:37:24 WARNING: Can not find mwt: default from official model list. Ignoring it.\n",
      "2020-04-28 23:37:24 INFO: Loading these models for language: en (English):\n",
      "=======================\n",
      "| Processor | Package |\n",
      "-----------------------\n",
      "| tokenize  | ewt     |\n",
      "| pos       | ewt     |\n",
      "=======================\n",
      "\n",
      "2020-04-28 23:37:24 INFO: Use device: gpu\n",
      "2020-04-28 23:37:24 INFO: Loading: tokenize\n",
      "2020-04-28 23:37:24 INFO: Loading: pos\n",
      "2020-04-28 23:37:25 INFO: Done loading processors!\n"
     ]
    },
    {
     "name": "stdout",
     "output_type": "stream",
     "text": [
      "Counter({'VBD': 3, 'NNP': 0, 'VBN': 0, 'IN': 0, 'POS': 0, 'NN': 0, '.': 0, 'PRP': 0, 'CD': 0, 'CC': 0, 'VBZ': 0})\n"
     ]
    },
    {
     "data": {
      "text/plain": [
       "'VBD'"
      ]
     },
     "execution_count": 70,
     "metadata": {},
     "output_type": "execute_result"
    }
   ],
   "source": []
  },
  {
   "cell_type": "code",
   "execution_count": 16,
   "metadata": {},
   "outputs": [
    {
     "name": "stderr",
     "output_type": "stream",
     "text": [
      "2020-04-30 00:31:23 WARNING: Can not find mwt: default from official model list. Ignoring it.\n",
      "2020-04-30 00:31:23 INFO: Loading these models for language: en (English):\n",
      "=======================\n",
      "| Processor | Package |\n",
      "-----------------------\n",
      "| tokenize  | ewt     |\n",
      "| pos       | ewt     |\n",
      "=======================\n",
      "\n",
      "2020-04-30 00:31:23 INFO: Use device: gpu\n",
      "2020-04-30 00:31:23 INFO: Loading: tokenize\n",
      "2020-04-30 00:31:23 INFO: Loading: pos\n",
      "2020-04-30 00:31:24 INFO: Done loading processors!\n"
     ]
    }
   ],
   "source": [
    "nlp = stanza.Pipeline(lang='en', processors='tokenize,mwt,pos')\n",
    "tokenizer = AutoTokenizer.from_pretrained(\"gpt2\")\n",
    "tokenizer.add_special_tokens(datasets.SpecialTokens.special_tokens_dict())\n",
    "blacklist = datasets.Blacklist.load(\"../data/blacklist.pickle\")\n",
    "model = AutoModelWithLMHead.from_pretrained(\"../models/inverse_en_dictionary_parsed_lr_00001/checkpoint-20000\").to(\"cuda:1\")"
   ]
  },
  {
   "cell_type": "code",
   "execution_count": 17,
   "metadata": {},
   "outputs": [
    {
     "data": {
      "text/plain": [
       "'<|bod|>the feeling of falling perpetually into the ground.<|bd|>'"
      ]
     },
     "execution_count": 17,
     "metadata": {},
     "output_type": "execute_result"
    }
   ],
   "source": []
  },
  {
   "cell_type": "code",
   "execution_count": 31,
   "metadata": {},
   "outputs": [
    {
     "name": "stdout",
     "output_type": "stream",
     "text": [
      "applesman /noun/\n",
      "\ta man working for a major payments processor in New York. |n| \n",
      "\n",
      "ratchetman /noun/\n",
      "\ta man working for a major payments processor in New York. |n| \n",
      "\n",
      "procer /noun/\n",
      "\ta man working for a major payments processor in New York. |n| \n",
      "\n",
      "rory grinder /noun/ [business law]\n",
      "\ta man working for a major payments processor in New York. |n| \n",
      "\n",
      "majorphone /noun/\n",
      "\ta man working for a major payments processor in New York. |n| \n",
      "\n",
      "moneymaking boy /noun/\n",
      "\ta man working for a major payments processor in New York. |n| \n",
      "\n",
      "systemver /noun/\n",
      "\ta man working for a major payments processor in New York. |n| \n",
      "\n",
      "Vlad /noun/\n",
      "\ta man working for a major payments processor in New York. |n| \n",
      "\n",
      "bank cossiter /noun/\n",
      "\ta man working for a major payments processor in New York. |n| \n",
      "\n",
      "checkmaker /noun/\n",
      "\ta man working for a major payments processor in New York. |n| \n",
      "\n",
      "Macyhawk /noun/ [Bridge]\n",
      "\ta man working for a major payments processor in New York. |n| \n",
      "\n",
      "moversman /noun/\n",
      "\ta man working for a major payments processor in New York. |n| \n",
      "\n",
      "Cheepsian /noun/\n",
      "\ta man working for a major payments processor in New York. |n| \n",
      "\n",
      "gateman /noun/\n",
      "\ta man working for a major payments processor in New York. |n| \n",
      "\n"
     ]
    }
   ],
   "source": [
    "defn = \"a man working for a major payments processor in New York.\"\n",
    "prefix = f\"{datasets.SpecialTokens.BOS_TOKEN}{defn}{datasets.SpecialTokens.DEFINITION_SEP}\"\n",
    "words, stats = datasets.InverseParsedDictionaryDefinitionDataset.generate_words(\n",
    "    tokenizer, model,\n",
    "    prefix=prefix,\n",
    "    num=100,\n",
    "    max_iterations=1, \n",
    "    blacklist=blacklist, \n",
    "    generation_args=dict(\n",
    "        top_k=500,\n",
    "        num_return_sequences=50,\n",
    "        max_length=256,\n",
    "        do_sample=True,\n",
    "    ),\n",
    ")\n",
    "\n",
    "print_words(words, sys.stdout)"
   ]
  }
 ],
 "metadata": {
  "kernelspec": {
   "display_name": "company_makeup",
   "language": "python",
   "name": "company_makeup"
  },
  "language_info": {
   "codemirror_mode": {
    "name": "ipython",
    "version": 3
   },
   "file_extension": ".py",
   "mimetype": "text/x-python",
   "name": "python",
   "nbconvert_exporter": "python",
   "pygments_lexer": "ipython3",
   "version": "3.7.6"
  }
 },
 "nbformat": 4,
 "nbformat_minor": 4
}
