{
 "cells": [
  {
   "cell_type": "code",
   "execution_count": 20,
   "metadata": {},
   "outputs": [
    {
     "name": "stdout",
     "output_type": "stream",
     "text": [
      "The autoreload extension is already loaded. To reload it, use:\n",
      "  %reload_ext autoreload\n"
     ]
    }
   ],
   "source": [
    "%load_ext autoreload\n",
    "%autoreload 2\n",
    "import sys\n",
    "sys.path.append(\"../\")\n",
    "sys.path.append(\"../site\")"
   ]
  },
  {
   "cell_type": "code",
   "execution_count": 30,
   "metadata": {},
   "outputs": [
    {
     "name": "stderr",
     "output_type": "stream",
     "text": [
      "Downloading https://raw.githubusercontent.com/stanfordnlp/stanza-resources/master/resources_1.0.0.json: 116kB [00:00, 9.62MB/s]                    \n",
      "2020-05-03 02:13:37 INFO: Downloading default packages for language: en (English)...\n",
      "2020-05-03 02:13:38 INFO: File exists: /home/tdimson/stanza_resources/en/default.zip.\n",
      "2020-05-03 02:13:41 INFO: Finished downloading models and saved to /home/tdimson/stanza_resources.\n"
     ]
    }
   ],
   "source": [
    "import re\n",
    "import stanza\n",
    "from collections import Counter\n",
    "import itertools\n",
    "import datasets\n",
    "import pickle\n",
    "import torch\n",
    "from transformers import AutoModelWithLMHead, AutoTokenizer\n",
    "stanza.download('en')  "
   ]
  },
  {
   "cell_type": "code",
   "execution_count": 14,
   "metadata": {},
   "outputs": [],
   "source": [
    "def print_words(words, f):\n",
    "    for word in words:\n",
    "        word_str = [word.word]\n",
    "        if word.pos:\n",
    "            word_str.append(f\"/{word.pos}/\")\n",
    "        if word.topic:\n",
    "            word_str.append(f\"[{word.topic}]\")\n",
    "        print(\" \".join(word_str), file=f)\n",
    "        print(f\"\\t{word.definition}{' |n| ' if word.example is None else ''}\", file=f)\n",
    "        if word.example:\n",
    "            print(f\"\\t\\\"{word.example}\\\"{' |e|' if word.from_example_expansion else ''}\", file=f)\n",
    "\n",
    "        print(\"\", file=f)"
   ]
  },
  {
   "cell_type": "code",
   "execution_count": 25,
   "metadata": {},
   "outputs": [
    {
     "name": "stderr",
     "output_type": "stream",
     "text": [
      "2020-05-02 19:10:22 WARNING: Can not find mwt: default from official model list. Ignoring it.\n",
      "2020-05-02 19:10:22 INFO: Loading these models for language: en (English):\n",
      "=======================\n",
      "| Processor | Package |\n",
      "-----------------------\n",
      "| tokenize  | ewt     |\n",
      "| pos       | ewt     |\n",
      "=======================\n",
      "\n",
      "2020-05-02 19:10:22 INFO: Use device: gpu\n",
      "2020-05-02 19:10:22 INFO: Loading: tokenize\n",
      "2020-05-02 19:10:23 INFO: Loading: pos\n",
      "2020-05-02 19:10:23 INFO: Done loading processors!\n"
     ]
    }
   ],
   "source": [
    "nlp = stanza.Pipeline(lang='en', processors='tokenize,mwt,pos')\n",
    "tokenizer = AutoTokenizer.from_pretrained(\"gpt2\")\n",
    "tokenizer.add_special_tokens(datasets.SpecialTokens.special_tokens_dict())\n",
    "blacklist = datasets.Blacklist.load(\"../data/blacklist.pickle\")\n",
    "model = AutoModelWithLMHead.from_pretrained(\"../models/en_dictionary_parsed_lr_00001/checkpoint-120000\").to(\"cuda:0\")"
   ]
  },
  {
   "cell_type": "code",
   "execution_count": 17,
   "metadata": {},
   "outputs": [
    {
     "data": {
      "text/plain": [
       "'<|bod|>the feeling of falling perpetually into the ground.<|bd|>'"
      ]
     },
     "execution_count": 17,
     "metadata": {},
     "output_type": "execute_result"
    }
   ],
   "source": []
  },
  {
   "cell_type": "code",
   "execution_count": 43,
   "metadata": {},
   "outputs": [],
   "source": [
    "def go():\n",
    "    with torch.no_grad():\n",
    "        words, stats = datasets.ParsedDictionaryDefinitionDataset.generate_words(\n",
    "            tokenizer, model,\n",
    "            num=10,\n",
    "            max_iterations=1, \n",
    "            blacklist=blacklist, \n",
    "            do_example_expansion=False, \n",
    "            generation_args=dict(\n",
    "                top_k=200,\n",
    "                num_return_sequences=100,\n",
    "                max_length=400,\n",
    "                do_sample=True,\n",
    "            ),\n",
    "            expansion_generation_overrides=dict(\n",
    "                top_k=50,\n",
    "                num_return_sequences=30,\n",
    "                do_sample=True,\n",
    "            ),\n",
    "            num_expansion_candidates=30,\n",
    "            filter_proper_nouns=True,\n",
    "        )\n",
    "\n",
    "    print(stats)\n",
    "    print()\n",
    "    #print_words(words, sys.stdout)"
   ]
  },
  {
   "cell_type": "code",
   "execution_count": 94,
   "metadata": {},
   "outputs": [],
   "source": [
    "def go2():\n",
    "    input = tokenizer.encode(datasets.SpecialTokens.BOS_TOKEN, return_tensors=\"pt\").to(model.device)\n",
    "    with torch.no_grad():\n",
    "        return quantized_model.generate(\n",
    "            input,\n",
    "            top_k=200,\n",
    "            num_return_sequences=1,\n",
    "            max_length=100,\n",
    "            do_sample=True,\n",
    "        )"
   ]
  },
  {
   "cell_type": "code",
   "execution_count": 97,
   "metadata": {},
   "outputs": [],
   "source": [
    "import math\n",
    "from transformers import activations\n",
    "import transformers\n",
    "\n",
    "def gelu_new(x):\n",
    "    return 0.5 * x * (1 + torch.tanh(math.sqrt(2 / math.pi) * (x + 0.044715 * torch.pow(x, 3.0))))\n",
    "\n",
    "activations.ACT2FN['gelu_new'] = gelu_new\n",
    "\n",
    "model = AutoModelWithLMHead.from_pretrained(\"../build/forward-dictionary-model-v1\").to(\"cpu\")\n",
    "quantized_model = torch.quantization.quantize_dynamic(\n",
    "    model, {torch.nn.Linear, torch.nn.Embedding, transformers.modeling_utils.Conv1D}, dtype=torch.qint8\n",
    ")"
   ]
  },
  {
   "cell_type": "code",
   "execution_count": 87,
   "metadata": {},
   "outputs": [
    {
     "name": "stderr",
     "output_type": "stream",
     "text": [
      "2020-05-03 02:29:08 WARNING: Setting `pad_token_id` to 50256 (first `eos_token_id`) to generate sequence\n"
     ]
    }
   ],
   "source": [
    "a = go2()"
   ]
  },
  {
   "cell_type": "code",
   "execution_count": 89,
   "metadata": {},
   "outputs": [
    {
     "name": "stdout",
     "output_type": "stream",
     "text": [
      "<|bod|> proportionate <|pos|> adjective <|bd|> capable of being taken into account <|be|> in his mind, he spoke proportionate to the circumstances <|eod|> <|pad|> <|pad|> <|pad|> <|pad|> <|pad|> <|pad|> <|pad|> <|pad|> <|pad|> <|pad|> <|pad|> <|pad|> <|pad|> <|pad|> <|pad|> <|pad|> <|pad|> <|pad|> <|pad|> <|pad|> <|pad|> <|pad|> <|pad|> <|pad|> <|pad|> <|pad|> <|pad|> <|pad|> <|pad|> <|pad|> <|pad|> <|pad|> <|pad|> <|pad|> <|pad|> <|pad|> <|pad|> <|pad|> <|pad|> <|pad|> <|pad|> <|pad|> <|pad|> <|pad|> <|pad|> <|pad|> <|pad|> <|pad|> <|pad|> <|pad|> <|pad|> <|pad|> <|pad|> <|pad|> <|pad|> <|pad|> <|pad|> <|pad|> <|pad|> <|pad|> <|pad|> <|pad|> <|pad|> <|pad|> <|pad|> <|pad|> <|pad|> <|pad|> <|pad|> <|pad|> <|pad|>\n"
     ]
    }
   ],
   "source": [
    "print(tokenizer.decode(a[0]))"
   ]
  },
  {
   "cell_type": "code",
   "execution_count": 95,
   "metadata": {},
   "outputs": [
    {
     "name": "stderr",
     "output_type": "stream",
     "text": [
      "2020-05-03 02:33:45 WARNING: Setting `pad_token_id` to 50256 (first `eos_token_id`) to generate sequence\n",
      "2020-05-03 02:33:48 WARNING: Setting `pad_token_id` to 50256 (first `eos_token_id`) to generate sequence\n",
      "2020-05-03 02:33:51 WARNING: Setting `pad_token_id` to 50256 (first `eos_token_id`) to generate sequence\n",
      "2020-05-03 02:33:54 WARNING: Setting `pad_token_id` to 50256 (first `eos_token_id`) to generate sequence\n",
      "2020-05-03 02:33:57 WARNING: Setting `pad_token_id` to 50256 (first `eos_token_id`) to generate sequence\n",
      "2020-05-03 02:34:00 WARNING: Setting `pad_token_id` to 50256 (first `eos_token_id`) to generate sequence\n",
      "2020-05-03 02:34:03 WARNING: Setting `pad_token_id` to 50256 (first `eos_token_id`) to generate sequence\n",
      "2020-05-03 02:34:06 WARNING: Setting `pad_token_id` to 50256 (first `eos_token_id`) to generate sequence\n"
     ]
    },
    {
     "name": "stdout",
     "output_type": "stream",
     "text": [
      "2.95 s ± 15.2 ms per loop (mean ± std. dev. of 7 runs, 1 loop each)\n"
     ]
    }
   ],
   "source": [
    "%timeit go2()"
   ]
  },
  {
   "cell_type": "code",
   "execution_count": 22,
   "metadata": {},
   "outputs": [],
   "source": [
    "from words import WordIndex, Word"
   ]
  },
  {
   "cell_type": "code",
   "execution_count": 29,
   "metadata": {},
   "outputs": [],
   "source": [
    "def clean_example(w, example):\n",
    "    return re.sub(w, w, example, flags=re.IGNORECASE)\n",
    "    \n",
    "wi = WordIndex(\n",
    "    [\n",
    "        Word(\n",
    "            word=w.word,\n",
    "            definition=w.definition,\n",
    "            pos=w.pos,\n",
    "            topic=w.topic,\n",
    "            example=clean_example(w.word, w.example),\n",
    "        ) for w in words\n",
    "    ]\n",
    ")\n",
    "wi.dump(\"../site/data/words.json\")"
   ]
  }
 ],
 "metadata": {
  "kernelspec": {
   "display_name": "company_makeup",
   "language": "python",
   "name": "company_makeup"
  },
  "language_info": {
   "codemirror_mode": {
    "name": "ipython",
    "version": 3
   },
   "file_extension": ".py",
   "mimetype": "text/x-python",
   "name": "python",
   "nbconvert_exporter": "python",
   "pygments_lexer": "ipython3",
   "version": "3.7.6"
  }
 },
 "nbformat": 4,
 "nbformat_minor": 4
}
