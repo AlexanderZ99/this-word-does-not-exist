{
 "cells": [
  {
   "cell_type": "code",
   "execution_count": 12,
   "metadata": {},
   "outputs": [],
   "source": [
    "%load_ext autoreload\n",
    "%autoreload 2"
   ]
  },
  {
   "cell_type": "code",
   "execution_count": 45,
   "metadata": {},
   "outputs": [],
   "source": [
    "import urban_dictionary\n",
    "import logging\n",
    "import pickle\n",
    "from scipy import stats\n",
    "import pandas as pd\n",
    "from tqdm.notebook import tqdm\n",
    "from collections import OrderedDict\n",
    "from functools import partial\n",
    "from concurrent.futures import ThreadPoolExecutor\n",
    "from multiprocessing.pool import ThreadPool\n",
    "import itertools\n",
    "import numpy as np"
   ]
  },
  {
   "cell_type": "code",
   "execution_count": 2,
   "metadata": {},
   "outputs": [],
   "source": [
    "logging.basicConfig(level=logging.INFO)\n",
    "session = urban_dictionary.get_session(throttle=0.1, expiry = (7*24*3600))"
   ]
  },
  {
   "cell_type": "code",
   "execution_count": null,
   "metadata": {},
   "outputs": [],
   "source": [
    "\"\"\"\n",
    "all_urls = urban_dictionary_scraper.fetch_all_word_urls(session)\n",
    "with open(\"all_urls.pickle\", \"wb\") as f:\n",
    "    pickle.dump(all_urls, f, pickle.HIGHEST_PROTOCOL)\n",
    "\"\"\""
   ]
  },
  {
   "cell_type": "code",
   "execution_count": 3,
   "metadata": {},
   "outputs": [
    {
     "name": "stdout",
     "output_type": "stream",
     "text": [
      "Done 71.25 percent\n"
     ]
    }
   ],
   "source": [
    "\n",
    "with open(\"all_urls.pickle\", \"rb\") as f:\n",
    "    to_fetch = pickle.load(f)\n",
    "    \n",
    "with open(\"all_words.pickle\", \"rb\") as f:\n",
    "    already_done = pickle.load(f)\n",
    "    for key in already_done.keys():\n",
    "        del to_fetch[key]\n",
    "        \n",
    "done = 100 * len(already_done) / (len(already_done) + len(to_fetch))\n",
    "print(f\"Done {done:.2f} percent\")"
   ]
  },
  {
   "cell_type": "code",
   "execution_count": null,
   "metadata": {},
   "outputs": [],
   "source": [
    "t = ThreadPool(5)\n",
    "#with ThreadPoolExecutor(max_workers=5) as executor:\n",
    "try:\n",
    "    fetch_all_definitions(session, to_fetch, already_done, save_interval=10000, executor=t)    \n",
    "finally:\n",
    "    t.terminate()\n",
    "    t.join()"
   ]
  },
  {
   "cell_type": "code",
   "execution_count": 64,
   "metadata": {},
   "outputs": [],
   "source": [
    "defns = pd.DataFrame(\n",
    "    [\n",
    "        [e.word, e.meaning, e.examples[0], e.creation_epoch, e.upvotes, e.downvotes]\n",
    "        for e in itertools.chain.from_iterable(e.definitions for e in already_done.values())\n",
    "    ],\n",
    "    columns=[\"word\", \"meaning\", \"example\", \"creation_epoch\", \"upvotes\", \"downvotes\"]\n",
    ")"
   ]
  },
  {
   "cell_type": "code",
   "execution_count": 52,
   "metadata": {},
   "outputs": [
    {
     "ename": "TypeError",
     "evalue": "'float' object cannot be interpreted as an integer",
     "output_type": "error",
     "traceback": [
      "\u001b[0;31m---------------------------------------------------------------------------\u001b[0m",
      "\u001b[0;31mTypeError\u001b[0m                                 Traceback (most recent call last)",
      "\u001b[0;32m<ipython-input-52-228cad29e8de>\u001b[0m in \u001b[0;36m<module>\u001b[0;34m\u001b[0m\n\u001b[0;32m----> 1\u001b[0;31m \u001b[0mrange\u001b[0m\u001b[0;34m(\u001b[0m\u001b[0;36m0\u001b[0m\u001b[0;34m,\u001b[0m \u001b[0;36m1\u001b[0m\u001b[0;34m,\u001b[0m \u001b[0;36m0.1\u001b[0m\u001b[0;34m)\u001b[0m\u001b[0;34m\u001b[0m\u001b[0;34m\u001b[0m\u001b[0m\n\u001b[0m",
      "\u001b[0;31mTypeError\u001b[0m: 'float' object cannot be interpreted as an integer"
     ]
    }
   ],
   "source": []
  },
  {
   "cell_type": "code",
   "execution_count": 65,
   "metadata": {},
   "outputs": [
    {
     "data": {
      "text/plain": [
       "0.01       38.00\n",
       "0.02       47.00\n",
       "0.03       54.00\n",
       "0.04       59.00\n",
       "0.05       63.00\n",
       "          ...   \n",
       "0.96      743.00\n",
       "0.97      833.00\n",
       "0.98      977.00\n",
       "0.99     1266.51\n",
       "1.00    91521.00\n",
       "Length: 100, dtype: float64"
      ]
     },
     "execution_count": 65,
     "metadata": {},
     "output_type": "execute_result"
    }
   ],
   "source": [
    "(defns[\"meaning\"].str.len() + defns[\"example\"].str.len()).quantile(np.linspace(0.01, 1, 100))"
   ]
  },
  {
   "cell_type": "code",
   "execution_count": 61,
   "metadata": {},
   "outputs": [
    {
     "data": {
      "text/plain": [
       "count     29628.000000\n",
       "mean        257.874713\n",
       "std        1731.727996\n",
       "min           0.000000\n",
       "25%          10.000000\n",
       "50%          44.000000\n",
       "75%         162.000000\n",
       "max      230221.000000\n",
       "dtype: float64"
      ]
     },
     "execution_count": 61,
     "metadata": {},
     "output_type": "execute_result"
    }
   ],
   "source": [
    "lng_defs = defns[defns[\"meaning\"].str.len() > 985]\n",
    "(lng_defs[\"upvotes\"] + lng_defs[\"downvotes\"]).describe()"
   ]
  },
  {
   "cell_type": "code",
   "execution_count": 62,
   "metadata": {},
   "outputs": [
    {
     "data": {
      "text/plain": [
       "count    2.940324e+06\n",
       "mean     7.464941e+01\n",
       "std      8.058769e+02\n",
       "min      0.000000e+00\n",
       "25%      2.000000e+00\n",
       "50%      8.000000e+00\n",
       "75%      3.100000e+01\n",
       "max      6.271090e+05\n",
       "dtype: float64"
      ]
     },
     "execution_count": 62,
     "metadata": {},
     "output_type": "execute_result"
    }
   ],
   "source": [
    "lng_defs = defns[defns[\"meaning\"].str.len() < 985]\n",
    "(lng_defs[\"upvotes\"] + lng_defs[\"downvotes\"]).describe()"
   ]
  }
 ],
 "metadata": {
  "kernelspec": {
   "display_name": "Python 3",
   "language": "python",
   "name": "python3"
  },
  "language_info": {
   "codemirror_mode": {
    "name": "ipython",
    "version": 3
   },
   "file_extension": ".py",
   "mimetype": "text/x-python",
   "name": "python",
   "nbconvert_exporter": "python",
   "pygments_lexer": "ipython3",
   "version": "3.7.6"
  }
 },
 "nbformat": 4,
 "nbformat_minor": 4
}
